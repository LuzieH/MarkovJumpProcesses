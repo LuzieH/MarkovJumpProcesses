{
 "cells": [
  {
   "cell_type": "code",
   "execution_count": 2,
   "metadata": {},
   "outputs": [],
   "source": [
    "import numpy as np\n",
    "import matplotlib.pyplot as plt"
   ]
  },
  {
   "attachments": {},
   "cell_type": "markdown",
   "metadata": {},
   "source": [
    "### 3-state Markov jump process"
   ]
  },
  {
   "cell_type": "code",
   "execution_count": 3,
   "metadata": {},
   "outputs": [
    {
     "data": {
      "text/plain": [
       "array([[-2,  1,  1],\n",
       "       [ 1, -1,  0],\n",
       "       [ 2,  1, -3]])"
      ]
     },
     "execution_count": 3,
     "metadata": {},
     "output_type": "execute_result"
    }
   ],
   "source": [
    "# rate matrix\n",
    "Q = np.array([[-2,1,1],[1,-1,0],[2,1,-3]])\n",
    "Q"
   ]
  },
  {
   "cell_type": "code",
   "execution_count": 4,
   "metadata": {},
   "outputs": [
    {
     "data": {
      "text/plain": [
       "array([[0.        , 0.5       , 0.5       ],\n",
       "       [1.        , 0.        , 0.        ],\n",
       "       [0.66666667, 0.33333333, 0.        ]])"
      ]
     },
     "execution_count": 4,
     "metadata": {},
     "output_type": "execute_result"
    }
   ],
   "source": [
    "# jump matrix\n",
    "P = Q-np.diag(np.diag(Q))\n",
    "P = P/np.sum(P,axis=1)[:,np.newaxis]\n",
    "P"
   ]
  },
  {
   "cell_type": "code",
   "execution_count": 7,
   "metadata": {},
   "outputs": [],
   "source": [
    "N_jumps = 20\n",
    "\n",
    "jumptimes = np.zeros(N_jumps)\n",
    "jumptimes[0] = 0\n",
    "jumploc = np.zeros(N_jumps)\n",
    "jumploc[0] = 0 #start location in 1\n",
    "\n",
    "for i in range(1,N_jumps):\n",
    "    st = int(jumploc[i-1]) #current state\n",
    "    waitingtime = np.random.exponential(-1/np.diag(Q)[st])\n",
    "    jumptimes[i]=jumptimes[i-1] + waitingtime\n",
    "    choosestate = np.random.choice(np.arange(3), p=P[st])\n",
    "    jumploc[i] = choosestate.copy()\n",
    "\n",
    "jumploc +=1 # to change states 0-2 to 1-3"
   ]
  },
  {
   "cell_type": "code",
   "execution_count": 8,
   "metadata": {},
   "outputs": [
    {
     "data": {
      "text/plain": [
       "Text(0, 0.5, '$X_t$')"
      ]
     },
     "execution_count": 8,
     "metadata": {},
     "output_type": "execute_result"
    },
    {
     "data": {
      "image/png": "[encoded data removed]",
      "text/plain": [
       "<Figure size 640x480 with 1 Axes>"
      ]
     },
     "metadata": {},
     "output_type": "display_data"
    }
   ],
   "source": [
    "plt.step(jumptimes, jumploc)\n",
    "plt.xlabel('t')\n",
    "plt.ylabel('$X_t$')"
   ]
  },
  {
   "cell_type": "code",
   "execution_count": null,
   "metadata": {},
   "outputs": [],
   "source": []
  }
 ],
 "metadata": {
  "kernelspec": {
   "display_name": "Python 3",
   "language": "python",
   "name": "python3"
  },
  "language_info": {
   "codemirror_mode": {
    "name": "ipython",
    "version": 3
   },
   "file_extension": ".py",
   "mimetype": "text/x-python",
   "name": "python",
   "nbconvert_exporter": "python",
   "pygments_lexer": "ipython3",
   "version": "3.11.1"
  },
  "orig_nbformat": 4,
  "vscode": {
   "interpreter": {
    "hash": "e7f8eea8ded541bc13ed325f557ac368c4767769103d23fbcff99013b0861342"
   }
  }
 },
 "nbformat": 4,
 "nbformat_minor": 2
}
